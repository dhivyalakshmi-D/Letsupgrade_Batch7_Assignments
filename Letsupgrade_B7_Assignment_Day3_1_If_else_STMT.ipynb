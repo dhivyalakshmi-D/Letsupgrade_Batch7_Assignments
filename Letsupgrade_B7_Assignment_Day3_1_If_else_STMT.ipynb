{
 "cells": [
  {
   "cell_type": "markdown",
   "metadata": {},
   "source": [
    "# Letsupgrade_B7_Assignment_Day3_1_If_else_STMT"
   ]
  },
  {
   "cell_type": "code",
   "execution_count": 6,
   "metadata": {},
   "outputs": [
    {
     "name": "stdout",
     "output_type": "stream",
     "text": [
      "Enter the Altitude:900\n",
      "Safe to land the plane\n"
     ]
    }
   ],
   "source": [
    "Alt = int(input(\"Enter the Altitude:\"))\n",
    "if Alt <= 1000:\n",
    "    print('Safe to land the plane')\n",
    "elif Alt > 1000 and Alt < 5000:\n",
    "    print('Bring down to 1000ft')\n",
    "else:\n",
    "    print('Go around and try later')"
   ]
  },
  {
   "cell_type": "code",
   "execution_count": 7,
   "metadata": {},
   "outputs": [
    {
     "name": "stdout",
     "output_type": "stream",
     "text": [
      "Enter the Altitude:1200\n",
      "Bring down to 1000ft\n"
     ]
    }
   ],
   "source": [
    "Alt = int(input(\"Enter the Altitude:\"))\n",
    "if Alt <= 1000:\n",
    "    print('Safe to land the plane')\n",
    "elif Alt > 1000 and Alt < 5000:\n",
    "    print('Bring down to 1000ft')\n",
    "else:\n",
    "    print('Go around and try later')"
   ]
  },
  {
   "cell_type": "code",
   "execution_count": 8,
   "metadata": {},
   "outputs": [
    {
     "name": "stdout",
     "output_type": "stream",
     "text": [
      "Enter the Altitude:8000\n",
      "Go around and try later\n"
     ]
    }
   ],
   "source": [
    "Alt = int(input(\"Enter the Altitude:\"))\n",
    "if Alt <= 1000:\n",
    "    print('Safe to land the plane')\n",
    "elif Alt > 1000 and Alt < 5000:\n",
    "    print('Bring down to 1000ft')\n",
    "else:\n",
    "    print('Go around and try later')"
   ]
  },
  {
   "cell_type": "code",
   "execution_count": null,
   "metadata": {},
   "outputs": [],
   "source": []
  }
 ],
 "metadata": {
  "kernelspec": {
   "display_name": "Python 3",
   "language": "python",
   "name": "python3"
  },
  "language_info": {
   "codemirror_mode": {
    "name": "ipython",
    "version": 3
   },
   "file_extension": ".py",
   "mimetype": "text/x-python",
   "name": "python",
   "nbconvert_exporter": "python",
   "pygments_lexer": "ipython3",
   "version": "3.8.3"
  }
 },
 "nbformat": 4,
 "nbformat_minor": 4
}
